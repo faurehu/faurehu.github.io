{
 "cells": [
  {
   "cell_type": "code",
   "execution_count": 1,
   "metadata": {
    "vscode": {
     "languageId": "r"
    }
   },
   "outputs": [
    {
     "name": "stderr",
     "output_type": "stream",
     "text": [
      "\n",
      "Attaching package: 'dplyr'\n",
      "\n",
      "\n",
      "The following objects are masked from 'package:stats':\n",
      "\n",
      "    filter, lag\n",
      "\n",
      "\n",
      "The following objects are masked from 'package:base':\n",
      "\n",
      "    intersect, setdiff, setequal, union\n",
      "\n",
      "\n"
     ]
    }
   ],
   "source": [
    "library(stringr)\n",
    "library(dplyr)\n",
    "library(tidyr)"
   ]
  },
  {
   "cell_type": "code",
   "execution_count": 26,
   "metadata": {
    "vscode": {
     "languageId": "r"
    }
   },
   "outputs": [],
   "source": [
    "df <- read.csv(\"barrios_marginales.csv\")"
   ]
  },
  {
   "cell_type": "code",
   "execution_count": 27,
   "metadata": {
    "vscode": {
     "languageId": "r"
    }
   },
   "outputs": [
    {
     "data": {
      "text/html": [
       "<style>\n",
       ".list-inline {list-style: none; margin:0; padding: 0}\n",
       ".list-inline>li {display: inline-block}\n",
       ".list-inline>li:not(:last-child)::after {content: \"\\00b7\"; padding: 0 .5ex}\n",
       "</style>\n",
       "<ol class=list-inline><li>'Departamento'</li><li>'X2014'</li><li>'X2015'</li><li>'X2016'</li><li>'X2017'</li><li>'X2018'</li><li>'X2019'</li><li>'X2020'</li><li>'X2021'</li><li>'X2022'</li><li>'X2023'</li></ol>\n"
      ],
      "text/latex": [
       "\\begin{enumerate*}\n",
       "\\item 'Departamento'\n",
       "\\item 'X2014'\n",
       "\\item 'X2015'\n",
       "\\item 'X2016'\n",
       "\\item 'X2017'\n",
       "\\item 'X2018'\n",
       "\\item 'X2019'\n",
       "\\item 'X2020'\n",
       "\\item 'X2021'\n",
       "\\item 'X2022'\n",
       "\\item 'X2023'\n",
       "\\end{enumerate*}\n"
      ],
      "text/markdown": [
       "1. 'Departamento'\n",
       "2. 'X2014'\n",
       "3. 'X2015'\n",
       "4. 'X2016'\n",
       "5. 'X2017'\n",
       "6. 'X2018'\n",
       "7. 'X2019'\n",
       "8. 'X2020'\n",
       "9. 'X2021'\n",
       "10. 'X2022'\n",
       "11. 'X2023'\n",
       "\n",
       "\n"
      ],
      "text/plain": [
       " [1] \"Departamento\" \"X2014\"        \"X2015\"        \"X2016\"        \"X2017\"       \n",
       " [6] \"X2018\"        \"X2019\"        \"X2020\"        \"X2021\"        \"X2022\"       \n",
       "[11] \"X2023\"       "
      ]
     },
     "metadata": {},
     "output_type": "display_data"
    }
   ],
   "source": [
    "names(df)"
   ]
  },
  {
   "cell_type": "code",
   "execution_count": 28,
   "metadata": {
    "vscode": {
     "languageId": "r"
    }
   },
   "outputs": [
    {
     "name": "stderr",
     "output_type": "stream",
     "text": [
      "Warning message in env[[name]] <- x:\n",
      "\"unable to translate 'a<U+00F1>o' to native encoding\"\n"
     ]
    }
   ],
   "source": [
    "data_long <- df %>%\n",
    "  pivot_longer(cols = -Departamento, names_to = \"año\", values_to = \"porcentaje\")"
   ]
  },
  {
   "cell_type": "code",
   "execution_count": 29,
   "metadata": {
    "vscode": {
     "languageId": "r"
    }
   },
   "outputs": [],
   "source": [
    "write.csv(data_long, \"barrios_marginales.csv\", row.names = FALSE)"
   ]
  }
 ],
 "metadata": {
  "kernelspec": {
   "display_name": "R",
   "language": "R",
   "name": "ir"
  },
  "language_info": {
   "codemirror_mode": "r",
   "file_extension": ".r",
   "mimetype": "text/x-r-source",
   "name": "R",
   "pygments_lexer": "r",
   "version": "4.4.1"
  }
 },
 "nbformat": 4,
 "nbformat_minor": 2
}
