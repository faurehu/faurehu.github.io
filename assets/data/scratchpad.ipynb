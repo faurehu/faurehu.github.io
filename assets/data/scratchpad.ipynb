{
 "cells": [
  {
   "cell_type": "code",
   "execution_count": 89,
   "metadata": {
    "vscode": {
     "languageId": "r"
    }
   },
   "outputs": [],
   "source": [
    "library(stringr)\n",
    "library(dplyr)\n",
    "library(tidyr)\n",
    "library(readr)"
   ]
  },
  {
   "cell_type": "code",
   "execution_count": 129,
   "metadata": {
    "vscode": {
     "languageId": "r"
    }
   },
   "outputs": [
    {
     "name": "stderr",
     "output_type": "stream",
     "text": [
      "\u001b[1mRows: \u001b[22m\u001b[34m86488\u001b[39m \u001b[1mColumns: \u001b[22m\u001b[34m31\u001b[39m\n",
      "\u001b[36m--\u001b[39m \u001b[1mColumn specification\u001b[22m \u001b[36m--------------------------------------------------------\u001b[39m\n",
      "\u001b[1mDelimiter:\u001b[22m \";\"\n",
      "\u001b[31mchr\u001b[39m  (8): UBIGEO, DEPARTAMENTO, PROVINCIA, DISTRITO, TIPO_ELECCION, MESA_DE_...\n",
      "\u001b[32mdbl\u001b[39m (23): N_CVAS, N_ELEC_HABIL, VOTOS_P1, VOTOS_P2, VOTOS_P3, VOTOS_P4, VOTO...\n",
      "\n",
      "\u001b[36mi\u001b[39m Use `spec()` to retrieve the full column specification for this data.\n",
      "\u001b[36mi\u001b[39m Specify the column types or set `show_col_types = FALSE` to quiet this message.\n"
     ]
    }
   ],
   "source": [
    "df <- read_delim(\"./Resultados por mesa de las Elecciones Generales 2021.csv\", delim = \";\", locale = locale(encoding = \"Latin1\"))"
   ]
  },
  {
   "cell_type": "code",
   "execution_count": 133,
   "metadata": {
    "vscode": {
     "languageId": "r"
    }
   },
   "outputs": [
    {
     "name": "stderr",
     "output_type": "stream",
     "text": [
      "\u001b[1m\u001b[22m`summarise()` has grouped output by 'DEPARTAMENTO', 'PROVINCIA'. You can\n",
      "override using the `.groups` argument.\n"
     ]
    }
   ],
   "source": [
    "df <- df %>%\n",
    "    select(-TIPO_OBSERVACION) %>%\n",
    "    group_by(DEPARTAMENTO, PROVINCIA, DISTRITO) %>%\n",
    "    mutate(across(everything(), ~replace_na(., 0))) %>%\n",
    "    summarise(\n",
    "        `Acción Popular` = sum(VOTOS_P6),\n",
    "        `Avanza Pais` = sum(VOTOS_P7),\n",
    "        `Podemos Perú` = sum(VOTOS_P8),\n",
    "        `Renovación Popular` = sum(VOTOS_P13),\n",
    "        `Somos Perú` = sum(VOTOS_P15),\n",
    "        `Fuerza Popular` = sum(VOTOS_P11),\n",
    "        `Perú Libre` = sum(VOTOS_P16),\n",
    "        `Alianza para el Progreso` = sum(VOTOS_P18)\n",
    "    )"
   ]
  },
  {
   "cell_type": "code",
   "execution_count": 134,
   "metadata": {
    "vscode": {
     "languageId": "r"
    }
   },
   "outputs": [],
   "source": [
    "data_long <- df %>%\n",
    "  pivot_longer(cols = -c(DEPARTAMENTO, PROVINCIA, DISTRITO), names_to = \"partido\", values_to = \"votos\")"
   ]
  },
  {
   "cell_type": "code",
   "execution_count": 135,
   "metadata": {
    "vscode": {
     "languageId": "r"
    }
   },
   "outputs": [],
   "source": [
    "write.csv(data_long, \"presidenciales_2021_distritos.csv\", row.names = FALSE, quote = FALSE, fileEncoding = \"UTF-8\")"
   ]
  }
 ],
 "metadata": {
  "kernelspec": {
   "display_name": "R",
   "language": "R",
   "name": "ir"
  },
  "language_info": {
   "codemirror_mode": "r",
   "file_extension": ".r",
   "mimetype": "text/x-r-source",
   "name": "R",
   "pygments_lexer": "r",
   "version": "4.4.1"
  }
 },
 "nbformat": 4,
 "nbformat_minor": 2
}
