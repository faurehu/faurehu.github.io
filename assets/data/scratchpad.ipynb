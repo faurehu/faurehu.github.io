{
 "cells": [
  {
   "cell_type": "code",
   "execution_count": 30,
   "metadata": {
    "vscode": {
     "languageId": "r"
    }
   },
   "outputs": [],
   "source": [
    "library(stringr)\n",
    "library(dplyr)\n",
    "library(tidyr)"
   ]
  },
  {
   "cell_type": "code",
   "execution_count": 39,
   "metadata": {
    "vscode": {
     "languageId": "r"
    }
   },
   "outputs": [],
   "source": [
    "df <- read.csv(\"densidad_poblacional.csv\")"
   ]
  },
  {
   "cell_type": "code",
   "execution_count": 40,
   "metadata": {
    "vscode": {
     "languageId": "r"
    }
   },
   "outputs": [
    {
     "data": {
      "text/html": [
       "<style>\n",
       ".list-inline {list-style: none; margin:0; padding: 0}\n",
       ".list-inline>li {display: inline-block}\n",
       ".list-inline>li:not(:last-child)::after {content: \"\\00b7\"; padding: 0 .5ex}\n",
       "</style>\n",
       "<ol class=list-inline><li>'Departamento'</li><li>'X1940'</li><li>'X1961'</li><li>'X1972'</li><li>'X1981'</li><li>'X1993'</li><li>'X2007'</li><li>'X2017'</li></ol>\n"
      ],
      "text/latex": [
       "\\begin{enumerate*}\n",
       "\\item 'Departamento'\n",
       "\\item 'X1940'\n",
       "\\item 'X1961'\n",
       "\\item 'X1972'\n",
       "\\item 'X1981'\n",
       "\\item 'X1993'\n",
       "\\item 'X2007'\n",
       "\\item 'X2017'\n",
       "\\end{enumerate*}\n"
      ],
      "text/markdown": [
       "1. 'Departamento'\n",
       "2. 'X1940'\n",
       "3. 'X1961'\n",
       "4. 'X1972'\n",
       "5. 'X1981'\n",
       "6. 'X1993'\n",
       "7. 'X2007'\n",
       "8. 'X2017'\n",
       "\n",
       "\n"
      ],
      "text/plain": [
       "[1] \"Departamento\" \"X1940\"        \"X1961\"        \"X1972\"        \"X1981\"       \n",
       "[6] \"X1993\"        \"X2007\"        \"X2017\"       "
      ]
     },
     "metadata": {},
     "output_type": "display_data"
    }
   ],
   "source": [
    "names(df)"
   ]
  },
  {
   "cell_type": "code",
   "execution_count": 41,
   "metadata": {
    "vscode": {
     "languageId": "r"
    }
   },
   "outputs": [
    {
     "name": "stderr",
     "output_type": "stream",
     "text": [
      "Warning message in env[[name]] <- x:\n",
      "\"unable to translate 'a<U+00F1>os' to native encoding\"\n"
     ]
    }
   ],
   "source": [
    "data_long <- df %>%\n",
    "  pivot_longer(cols = -Departamento, names_to = \"años\", values_to = \"porcentaje\")"
   ]
  },
  {
   "cell_type": "code",
   "execution_count": 42,
   "metadata": {
    "vscode": {
     "languageId": "r"
    }
   },
   "outputs": [],
   "source": [
    "write.csv(data_long, \"densidad_poblacional.csv\", row.names = FALSE)"
   ]
  }
 ],
 "metadata": {
  "kernelspec": {
   "display_name": "R",
   "language": "R",
   "name": "ir"
  },
  "language_info": {
   "codemirror_mode": "r",
   "file_extension": ".r",
   "mimetype": "text/x-r-source",
   "name": "R",
   "pygments_lexer": "r",
   "version": "4.4.1"
  }
 },
 "nbformat": 4,
 "nbformat_minor": 2
}
