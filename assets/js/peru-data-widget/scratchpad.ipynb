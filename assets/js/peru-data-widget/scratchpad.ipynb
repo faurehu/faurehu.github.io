{
 "cells": [
  {
   "cell_type": "code",
   "execution_count": 70,
   "metadata": {
    "vscode": {
     "languageId": "r"
    }
   },
   "outputs": [],
   "source": [
    "library(sf)\n",
    "library(ggplot2)"
   ]
  },
  {
   "cell_type": "code",
   "execution_count": 74,
   "metadata": {
    "vscode": {
     "languageId": "r"
    }
   },
   "outputs": [
    {
     "data": {
      "text/html": [
       "'/Users/matiasfaure/Code/faurehu.github.io/assets/js/peru-data-widget'"
      ],
      "text/latex": [
       "'/Users/matiasfaure/Code/faurehu.github.io/assets/js/peru-data-widget'"
      ],
      "text/markdown": [
       "'/Users/matiasfaure/Code/faurehu.github.io/assets/js/peru-data-widget'"
      ],
      "text/plain": [
       "[1] \"/Users/matiasfaure/Code/faurehu.github.io/assets/js/peru-data-widget\""
      ]
     },
     "metadata": {},
     "output_type": "display_data"
    }
   ],
   "source": [
    "getwd()\n"
   ]
  },
  {
   "cell_type": "code",
   "execution_count": 80,
   "metadata": {
    "vscode": {
     "languageId": "r"
    }
   },
   "outputs": [
    {
     "name": "stdout",
     "output_type": "stream",
     "text": [
      "Reading layer `PROVINCIAS_inei_geogpsperu_suyopomalia' from data source \n",
      "  `/Users/matiasfaure/Code/faurehu.github.io/assets/js/peru-data-widget/PROVINCIAS_inei_geogpsperu_suyopomalia/PROVINCIAS_inei_geogpsperu_suyopomalia.shp' \n",
      "  using driver `ESRI Shapefile'\n",
      "Simple feature collection with 196 features and 79 fields\n",
      "Geometry type: MULTIPOLYGON\n",
      "Dimension:     XY\n",
      "Bounding box:  xmin: -81.32823 ymin: -18.35093 xmax: -68.65228 ymax: -0.03860597\n",
      "Geodetic CRS:  WGS 84\n"
     ]
    }
   ],
   "source": [
    "# Load the shapefile for provinces\n",
    "provinces_sf <- st_read(\"PROVINCIAS_inei_geogpsperu_suyopomalia/PROVINCIAS_inei_geogpsperu_suyopomalia.shp\")\n",
    "\n",
    "output <- provinces_sf %>% dplyr::filter(NOMBDEP == \"LIMA\", NOMBPROV == \"LIMA\")\n",
    "output$NOMBDEP <- \"LIMA METROPOLITANA\"\n"
   ]
  },
  {
   "cell_type": "code",
   "execution_count": 81,
   "metadata": {
    "vscode": {
     "languageId": "r"
    }
   },
   "outputs": [
    {
     "name": "stdout",
     "output_type": "stream",
     "text": [
      "Writing layer `lima_metropolitana' to data source \n",
      "  `lima_metropolitana.geojson' using driver `GeoJSON'\n",
      "Writing 1 features with 79 fields and geometry type Multi Polygon.\n"
     ]
    }
   ],
   "source": [
    "st_write(output, \"lima_metropolitana.geojson\")\n"
   ]
  }
 ],
 "metadata": {
  "language_info": {
   "name": "python"
  }
 },
 "nbformat": 4,
 "nbformat_minor": 2
}
