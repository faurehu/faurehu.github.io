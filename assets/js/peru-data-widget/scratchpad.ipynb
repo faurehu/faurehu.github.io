{
 "cells": [
  {
   "cell_type": "code",
   "execution_count": 126,
   "metadata": {
    "vscode": {
     "languageId": "r"
    }
   },
   "outputs": [],
   "source": [
    "library(sf)\n",
    "library(ggplot2)\n",
    "library(dplyr)\n",
    "library(readr)\n",
    "library(stringr)"
   ]
  },
  {
   "cell_type": "code",
   "execution_count": 89,
   "metadata": {
    "vscode": {
     "languageId": "r"
    }
   },
   "outputs": [
    {
     "data": {
      "text/html": [
       "'/Users/matiasfaure/Code/faurehu.github.io/assets/js/peru-data-widget'"
      ],
      "text/latex": [
       "'/Users/matiasfaure/Code/faurehu.github.io/assets/js/peru-data-widget'"
      ],
      "text/markdown": [
       "'/Users/matiasfaure/Code/faurehu.github.io/assets/js/peru-data-widget'"
      ],
      "text/plain": [
       "[1] \"/Users/matiasfaure/Code/faurehu.github.io/assets/js/peru-data-widget\""
      ]
     },
     "metadata": {},
     "output_type": "display_data"
    }
   ],
   "source": [
    "getwd()"
   ]
  },
  {
   "cell_type": "code",
   "execution_count": 224,
   "metadata": {
    "vscode": {
     "languageId": "r"
    }
   },
   "outputs": [
    {
     "name": "stdout",
     "output_type": "stream",
     "text": [
      "Reading layer `peru_distritos' from data source \n",
      "  `/Users/matiasfaure/Code/faurehu.github.io/assets/js/peru-data-widget/peru_distritos.geojson' \n",
      "  using driver `GeoJSON'\n",
      "Simple feature collection with 1874 features and 77 fields\n",
      "Geometry type: MULTIPOLYGON\n",
      "Dimension:     XY\n",
      "Bounding box:  xmin: -81.32823 ymin: -18.35093 xmax: -68.65228 ymax: -0.03860597\n",
      "Geodetic CRS:  WGS 84\n"
     ]
    }
   ],
   "source": [
    "df <- read.csv(\"../../data/presidenciales_2021_distritos.csv\", fileEncoding = \"UTF-8\")\n",
    "geo <- st_read(\"peru_distritos.geojson\")\n",
    "geo <- as_tibble(geo)\n",
    "\n",
    "geo_n_tilde <- substring(geo_string, 5, 5)\n",
    "\n",
    "df <- df %>% \n",
    "  mutate(across(everything(), ~ str_replace_all(.x, \"<U\\\\+00D1>\", geo_n_tilde)))"
   ]
  },
  {
   "cell_type": "code",
   "execution_count": 255,
   "metadata": {
    "vscode": {
     "languageId": "r"
    }
   },
   "outputs": [],
   "source": [
    "geo <- geo %>% mutate(\n",
    "    NOMBPROV = ifelse(NOMBPROV == \"ANTONIO RAYMONDI\", \"ANTONIO RAIMONDI\", NOMBPROV),\n",
    "    NOMBDIST = ifelse(NOMBDIST == \"MILPUC\", \"MILPUCC\", NOMBDIST),\n",
    "    NOMBDIST = ifelse(NOMBDIST == \"GAMARRA\", \"MARISCAL GAMARRA\", NOMBDIST),\n",
    "    NOMBDIST = ifelse(NOMBDIST == \"ANCO_HUALLO\", \"ANCO-HUALLO\", NOMBDIST),\n",
    "    NOMBDIST = ifelse(NOMBDIST == \"SANTA RITA DE SIGUAS\", \"SANTA RITA DE SIHUAS\", NOMBDIST),\n",
    "    NOMBDIST = ifelse(NOMBDIST == \"HUAYLLAY GRANDE\", \"HUALLAY-GRANDE\", NOMBDIST),\n",
    "    NOMBDIST = ifelse(NOMBDIST == \"QUISQUI (KICHKI)\", \"QUISQUI\", NOMBDIST),\n",
    "    NOMBDIST = ifelse(NOMBDIST == \"TOMAY KICHWA\", \"TOMAY-KICHWA\", NOMBDIST),\n",
    "    NOMBDIST = ifelse(NOMBDIST == \"SAN JUAN DE ISCOS\", \"SAN JUAN DE YSCOS\", NOMBDIST),\n",
    "    NOMBDIST = ifelse(NOMBDIST == \"RINCONADA LLICUAR\", \"RINCONADA-LLICUAR\", NOMBDIST),\n",
    "    NOMBDIST = ifelse(NOMBDIST == \"CAPAZO\", \"CAPASO\", NOMBDIST),\n",
    "    NOMBDIST = ifelse(NOMBDIST == \"CASPISAPA\", \"CASPIZAPA\", NOMBDIST),\n",
    "    NOMBDIST = ifelse(NOMBDIST == \"ESTIQUE-PAMPA\", \"ESTIQUE PAMPA\", NOMBDIST),\n",
    "    NOMBDIST = ifelse(NOMBDIST == \"CARMEN DE LA LEGUA REYNOSO\", \"CARMEN DE LA LEGUA-REYNOSO\", NOMBDIST),\n",
    ")"
   ]
  },
  {
   "cell_type": "code",
   "execution_count": 256,
   "metadata": {
    "vscode": {
     "languageId": "r"
    }
   },
   "outputs": [
    {
     "data": {
      "text/html": [
       "<table class=\"dataframe\">\n",
       "<caption>A data.frame: 0 x 12</caption>\n",
       "<thead>\n",
       "\t<tr><th scope=col>UBIGEO</th><th scope=col>DEPARTAMENTO</th><th scope=col>PROVINCIA</th><th scope=col>DISTRITO</th><th scope=col>accion_popular</th><th scope=col>avanza_pais</th><th scope=col>podemos_peru</th><th scope=col>renovacion_popular</th><th scope=col>somos_peru</th><th scope=col>fuerza_popular</th><th scope=col>peru_libre</th><th scope=col>alianza_por_el_progreso</th></tr>\n",
       "\t<tr><th scope=col>&lt;chr&gt;</th><th scope=col>&lt;chr&gt;</th><th scope=col>&lt;chr&gt;</th><th scope=col>&lt;chr&gt;</th><th scope=col>&lt;chr&gt;</th><th scope=col>&lt;chr&gt;</th><th scope=col>&lt;chr&gt;</th><th scope=col>&lt;chr&gt;</th><th scope=col>&lt;chr&gt;</th><th scope=col>&lt;chr&gt;</th><th scope=col>&lt;chr&gt;</th><th scope=col>&lt;chr&gt;</th></tr>\n",
       "</thead>\n",
       "<tbody>\n",
       "</tbody>\n",
       "</table>\n"
      ],
      "text/latex": [
       "A data.frame: 0 x 12\n",
       "\\begin{tabular}{llllllllllll}\n",
       " UBIGEO & DEPARTAMENTO & PROVINCIA & DISTRITO & accion\\_popular & avanza\\_pais & podemos\\_peru & renovacion\\_popular & somos\\_peru & fuerza\\_popular & peru\\_libre & alianza\\_por\\_el\\_progreso\\\\\n",
       " <chr> & <chr> & <chr> & <chr> & <chr> & <chr> & <chr> & <chr> & <chr> & <chr> & <chr> & <chr>\\\\\n",
       "\\hline\n",
       "\\end{tabular}\n"
      ],
      "text/markdown": [
       "\n",
       "A data.frame: 0 x 12\n",
       "\n",
       "| UBIGEO &lt;chr&gt; | DEPARTAMENTO &lt;chr&gt; | PROVINCIA &lt;chr&gt; | DISTRITO &lt;chr&gt; | accion_popular &lt;chr&gt; | avanza_pais &lt;chr&gt; | podemos_peru &lt;chr&gt; | renovacion_popular &lt;chr&gt; | somos_peru &lt;chr&gt; | fuerza_popular &lt;chr&gt; | peru_libre &lt;chr&gt; | alianza_por_el_progreso &lt;chr&gt; |\n",
       "|---|---|---|---|---|---|---|---|---|---|---|---|\n",
       "\n"
      ],
      "text/plain": [
       "     UBIGEO DEPARTAMENTO PROVINCIA DISTRITO accion_popular avanza_pais\n",
       "     podemos_peru renovacion_popular somos_peru fuerza_popular peru_libre\n",
       "     alianza_por_el_progreso"
      ]
     },
     "metadata": {},
     "output_type": "display_data"
    }
   ],
   "source": [
    "anti_join(df, geo, by = c(\"DEPARTAMENTO\" = \"NOMBDEP\", \"PROVINCIA\" = \"NOMBPROV\", \"DISTRITO\" = \"NOMBDIST\")) %>% \n",
    "  filter(!DEPARTAMENTO %in% c(\"EUROPA\", \"ASIA\", \"AMERICA\", \"OCEANIA\", \"AFRICA\"))"
   ]
  },
  {
   "cell_type": "code",
   "execution_count": 257,
   "metadata": {
    "vscode": {
     "languageId": "r"
    }
   },
   "outputs": [
    {
     "name": "stdout",
     "output_type": "stream",
     "text": [
      "Deleting source `peru_distritos.geojson' using driver `GeoJSON'\n",
      "Writing layer `peru_distritos' to data source \n",
      "  `peru_distritos.geojson' using driver `GeoJSON'\n",
      "Writing 1874 features with 77 fields and geometry type Multi Polygon.\n"
     ]
    }
   ],
   "source": [
    "st_write(geo, \"peru_distritos.geojson\", driver = \"GeoJSON\", delete_dsn = TRUE)"
   ]
  }
 ],
 "metadata": {
  "kernelspec": {
   "display_name": "R",
   "language": "R",
   "name": "ir"
  },
  "language_info": {
   "codemirror_mode": "r",
   "file_extension": ".r",
   "mimetype": "text/x-r-source",
   "name": "R",
   "pygments_lexer": "r",
   "version": "4.4.1"
  }
 },
 "nbformat": 4,
 "nbformat_minor": 2
}
